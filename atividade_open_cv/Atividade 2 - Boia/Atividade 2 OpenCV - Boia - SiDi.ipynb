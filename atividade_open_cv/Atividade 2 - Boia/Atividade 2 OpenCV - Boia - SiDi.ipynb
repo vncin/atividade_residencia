{
 "cells": [
  {
   "cell_type": "markdown",
   "id": "25263276",
   "metadata": {},
   "source": [
    "# Atividade 2 - OpenCV\n",
    "\n",
    "**Vinicius Dantas**"
   ]
  },
  {
   "cell_type": "code",
   "execution_count": 1,
   "id": "b98ec395",
   "metadata": {},
   "outputs": [],
   "source": [
    "import numpy as np\n",
    "import matplotlib.pyplot as plt\n",
    "import cv2 "
   ]
  },
  {
   "cell_type": "code",
   "execution_count": 2,
   "id": "b5810349",
   "metadata": {},
   "outputs": [],
   "source": [
    "boia = cv2.imread(\"boia.jpg\", 1)"
   ]
  },
  {
   "cell_type": "code",
   "execution_count": 3,
   "id": "aded2e3f",
   "metadata": {},
   "outputs": [],
   "source": [
    "cv2.imshow('Original', boia)\n",
    "  \n",
    "cv2.waitKey(0) \n",
    "cv2.destroyAllWindows() "
   ]
  },
  {
   "cell_type": "markdown",
   "id": "9c9bdee8",
   "metadata": {},
   "source": [
    "### Questão 1\n",
    "\n",
    "Isole os canais vermelho e verde e salve as imagens com os nomes 1_red.jpg e 2_green.jpg, respectivamente."
   ]
  },
  {
   "cell_type": "code",
   "execution_count": 4,
   "id": "67ccf8fd",
   "metadata": {},
   "outputs": [],
   "source": [
    "(canalAzul, canalVerde, canalVermelho) = cv2.split(boia)\n",
    "\n",
    "zeros = np.zeros(boia.shape[:2], dtype = \"uint8\")\n",
    "red = cv2.merge([zeros, zeros,\n",
    "canalVermelho])\n",
    "green = cv2.merge([zeros, canalVerde, zeros])\n",
    "cv2.imshow(\"Vermelho\", red)\n",
    "cv2.imshow(\"Verde\", green)\n",
    "cv2.imshow(\"Original\", boia)\n",
    "\n",
    "cv2.imwrite(\"1_red.jpg\", red)\n",
    "cv2.imwrite(\"2_green.jpg\", green)\n",
    "\n",
    "cv2.waitKey(0)\n",
    "cv2.destroyAllWindows() "
   ]
  },
  {
   "cell_type": "markdown",
   "id": "7a2613ee",
   "metadata": {},
   "source": [
    "### Questão 2\n",
    "Cria uma máscara binária correspondendo a área da boia, usando a técnica de thresholding. Lembrando: uma máscara binária é uma imagem de 1 canal. Dica: use como entrada do threshold uma imagem representada pela razão entre os canais. Lembrando que o objeto é vermelho, portanto a máscara a ser calculada deve ser a máscara do canal vermelho. Salve o resultado da máscara como 3_red_mask.jpg."
   ]
  },
  {
   "cell_type": "code",
   "execution_count": 5,
   "id": "e9a1beb7",
   "metadata": {},
   "outputs": [],
   "source": [
    "bin_red = cv2.imread(\"1_red.jpg\", 1)\n",
    "cv2.imshow('Original', bin_red)\n",
    "  \n",
    "cv2.waitKey(0) \n",
    "cv2.destroyAllWindows() "
   ]
  },
  {
   "cell_type": "code",
   "execution_count": 6,
   "id": "536cf09b",
   "metadata": {},
   "outputs": [],
   "source": [
    "(T, red_bin_mask) = cv2.threshold(bin_red, 100, 255, cv2.THRESH_BINARY)\n",
    "cv2.imshow(\"Binarizada\", red_bin_mask)\n",
    "cv2.imshow(\"Original\", bin_red)\n",
    "\n",
    "cv2.imwrite(\"3_red_mask.jpg\", red_bin_mask)\n",
    "cv2.waitKey(0)\n",
    "cv2.destroyAllWindows() "
   ]
  },
  {
   "cell_type": "markdown",
   "id": "f716d294",
   "metadata": {},
   "source": [
    "### Questão 3\n",
    "\n",
    "Use uma operação morfológica para preencher os buracos da máscara. Para isso, crie um elemento estruturante e ache um bom tamanho para ele. Salve o resultado como 4_closed.jpg."
   ]
  },
  {
   "cell_type": "code",
   "execution_count": 7,
   "id": "6ff3a472",
   "metadata": {},
   "outputs": [],
   "source": [
    "red_mask = cv2.imread(\"3_red_mask.jpg\", 1)\n",
    "cv2.imshow('Original', red_mask)\n",
    "  \n",
    "cv2.waitKey(0) \n",
    "cv2.destroyAllWindows() "
   ]
  },
  {
   "cell_type": "code",
   "execution_count": 8,
   "id": "f7a485b9",
   "metadata": {},
   "outputs": [],
   "source": [
    "kernel = np.ones((5,5),np.uint8)\n",
    "closing = cv2.morphologyEx(red_mask, cv2.MORPH_CLOSE, kernel)"
   ]
  },
  {
   "cell_type": "code",
   "execution_count": 9,
   "id": "0e959c37",
   "metadata": {},
   "outputs": [],
   "source": [
    "cv2.imshow(\"Morfologica\", closing)\n",
    "cv2.imshow(\"Original\", red_mask)\n",
    "\n",
    "\n",
    "cv2.imwrite(\"4_closed.jpg\", closing)\n",
    "cv2.waitKey(0)\n",
    "cv2.destroyAllWindows() "
   ]
  },
  {
   "cell_type": "markdown",
   "id": "642b1c63",
   "metadata": {},
   "source": [
    "### Questão 4\n",
    "\n",
    "Encontre o contorno da boia usando a máscara. Lembrando: usando o método de encontrar contornos do OpenCV, o resultado será um array de contornos, devido a imperfeição da imagem. Você deve encontrar o contorno da boia. Após isso, desenhar o contorno da boia e salvar a imagem como 5_contour.jpg."
   ]
  },
  {
   "cell_type": "code",
   "execution_count": 10,
   "id": "b5c26d49",
   "metadata": {},
   "outputs": [],
   "source": [
    "closed = cv2.imread(\"4_closed.jpg\", 1)\n",
    "cv2.imshow('Original', closed)\n",
    "  \n",
    "cv2.waitKey(0) \n",
    "cv2.destroyAllWindows() "
   ]
  },
  {
   "cell_type": "code",
   "execution_count": 11,
   "id": "61806043",
   "metadata": {},
   "outputs": [],
   "source": [
    "closed = cv2.GaussianBlur(closed, ( 9, 9), 3.5)\n",
    "contornos = cv2.Canny(closed,150,200)"
   ]
  },
  {
   "cell_type": "code",
   "execution_count": 12,
   "id": "1630f801",
   "metadata": {},
   "outputs": [
    {
     "data": {
      "text/plain": [
       "array([[0, 0, 0, ..., 0, 0, 0],\n",
       "       [0, 0, 0, ..., 0, 0, 0],\n",
       "       [0, 0, 0, ..., 0, 0, 0],\n",
       "       ...,\n",
       "       [0, 0, 0, ..., 0, 0, 0],\n",
       "       [0, 0, 0, ..., 0, 0, 0],\n",
       "       [0, 0, 0, ..., 0, 0, 0]], dtype=uint8)"
      ]
     },
     "execution_count": 12,
     "metadata": {},
     "output_type": "execute_result"
    }
   ],
   "source": [
    "gray = cv2.cvtColor(closed, cv2.COLOR_BGR2GRAY)\n",
    "ret, thresh = cv2.threshold(gray, 170, 255, 0)\n",
    "contours, hierarchy = cv2.findContours(thresh, cv2.RETR_TREE, cv2.CHAIN_APPROX_SIMPLE)\n",
    "dst = contornos.copy()\n",
    "cv2.drawContours(dst, contours, 0, (0, 255, 0), 3)"
   ]
  },
  {
   "cell_type": "code",
   "execution_count": 13,
   "id": "4d337a1b",
   "metadata": {},
   "outputs": [
    {
     "data": {
      "text/plain": [
       "True"
      ]
     },
     "execution_count": 13,
     "metadata": {},
     "output_type": "execute_result"
    }
   ],
   "source": [
    "cv2.imshow(\"Contornos\", closed)\n",
    "cv2.imshow(\"Cinza\", gray)\n",
    "cv2.imshow(\"thresh\", thresh)\n",
    "cv2.imshow(\"dst\", dst)\n",
    "cv2.waitKey(0)\n",
    "cv2.destroyAllWindows()\n",
    "cv2.imwrite(\"5_countour.jpg\", dst)"
   ]
  },
  {
   "cell_type": "markdown",
   "id": "cd0d194b",
   "metadata": {},
   "source": [
    "### Questão 5 \n",
    "\n",
    "Encontre o bounding box da boia utilizando o contorno calculado previamente. Crie uma imagem representando a imagem restrita (crop) pela área do bounding box. Salve como 6_crop.jpg."
   ]
  },
  {
   "cell_type": "code",
   "execution_count": 14,
   "id": "4ad2cc20",
   "metadata": {},
   "outputs": [
    {
     "name": "stdout",
     "output_type": "stream",
     "text": [
      "x1: 103 x2: 411 y1: 44 y2: 800\n"
     ]
    }
   ],
   "source": [
    "# Generate variables\n",
    "image = cv2.imread(\"5_countour.jpg\", 1)\n",
    "\n",
    "original = image.copy()\n",
    "\n",
    "#image = cv2.GaussianBlur(image, ( 11, 11), 3.5)\n",
    "gray = cv2.cvtColor(image, cv2.COLOR_BGR2GRAY)\n",
    "ret, thresh = cv2.threshold(gray, 230, 255, 0)\n",
    "x1,y1,w,h = cv2.boundingRect(thresh)\n",
    "x2 = x1+w\n",
    "y2 = y1+h\n",
    "\n",
    "# Draw bounding rectangle\n",
    "start = (x1, y1)\n",
    "end = (x2, y2)\n",
    "colour = (0, 0, 255)\n",
    "thickness = 2\n",
    "rectangle_img = cv2.rectangle(original, start, end, colour, thickness)\n",
    "print(\"x1:\", x1, \"x2:\", x2, \"y1:\", y1, \"y2:\", y2)\n",
    "cv2.imshow('Bounding box', rectangle_img)\n",
    "cv2.imshow('Thresh',thresh)\n",
    "cv2.waitKey(0)\n",
    "cv2.destroyAllWindows()"
   ]
  },
  {
   "cell_type": "code",
   "execution_count": 15,
   "id": "ffe8cea8",
   "metadata": {},
   "outputs": [
    {
     "data": {
      "text/plain": [
       "True"
      ]
     },
     "execution_count": 15,
     "metadata": {},
     "output_type": "execute_result"
    }
   ],
   "source": [
    "image_boia = cv2.imread(\"boia.jpg\", 1)\n",
    "start = (103, 44)\n",
    "end = (411, 800)\n",
    "colour = (255, 255, 255)\n",
    "thickness = 1\n",
    "box_boia_img = cv2.rectangle(image_boia, start, end, colour)\n",
    "cv2.imshow('Box Boia',box_boia_img)\n",
    "\n",
    "img_crop = image_boia[y1:y2, x1:x2]\n",
    "\n",
    "cv2.imshow('Box Boia Crop',img_crop)\n",
    "cv2.waitKey(0)\n",
    "cv2.destroyAllWindows()\n",
    "\n",
    "\n",
    "cv2.imwrite(\"6_crop.jpg\", img_crop)"
   ]
  },
  {
   "cell_type": "markdown",
   "id": "e3a90dec",
   "metadata": {},
   "source": [
    "### Questão 6\n",
    "\n",
    "Faça o mesmo passo anterior para a imagem da máscara e salve como 7_crop_red_mask.jpg."
   ]
  },
  {
   "cell_type": "code",
   "execution_count": 16,
   "id": "eac1c001",
   "metadata": {},
   "outputs": [
    {
     "data": {
      "text/plain": [
       "True"
      ]
     },
     "execution_count": 16,
     "metadata": {},
     "output_type": "execute_result"
    }
   ],
   "source": [
    "image_boia_red = cv2.imread(\"3_red_mask.jpg\", 1)\n",
    "start = (103, 44)\n",
    "end = (411, 800)\n",
    "colour = (255, 255, 255)\n",
    "thickness = 0\n",
    "box_boia_red_img = cv2.rectangle(image_boia_red, start, end, colour)\n",
    "cv2.imshow('Box Boia',box_boia_red_img)\n",
    "\n",
    "box_boia_red_img_crop = box_boia_red_img[y1:y2, x1:x2]\n",
    "\n",
    "cv2.imshow('Box Boia Crop Red',box_boia_red_img_crop)\n",
    "cv2.waitKey(0)\n",
    "cv2.destroyAllWindows()\n",
    "\n",
    "cv2.imwrite(\"7_crop_red_mask.jpg\", box_boia_red_img_crop)"
   ]
  },
  {
   "cell_type": "markdown",
   "id": "c72b9bfc",
   "metadata": {},
   "source": [
    "### Questão 7 \n",
    "\n",
    "Utilizando a imagem da máscara “croppada”, inverta-a (salve como 8_inv_mask.jpg). Crie uma imagem com background branco para a boia e converta a área da boia para preto, usando a máscara invertida. Dica: use conjunção bit a bit entre o background branco, setando a máscara invertida como parâmetro mask. Salve o resultado como 9_white_bg.jpg."
   ]
  },
  {
   "cell_type": "code",
   "execution_count": 17,
   "id": "1faf6b26",
   "metadata": {},
   "outputs": [],
   "source": [
    "image = cv2.imread(\"7_crop_red_mask.jpg\", 1)\n",
    "cv2.imshow('Box Boia Crop Red',image)\n",
    "\n",
    "gray = cv2.cvtColor(image, cv2.COLOR_BGR2GRAY)\n",
    "binary = cv2.threshold(gray,30,255,cv2.THRESH_BINARY)[1]\n",
    "invertida = cv2.bitwise_not(binary)\n",
    "#cv2.imshow('Gray',gray)\n",
    "cv2.imshow('Binary',binary)\n",
    "cv2.imshow('Invertida',invertida)\n",
    "cv2.imwrite(\"8_inv_mask.jpg\", invertida)\n",
    "\n",
    "cv2.waitKey(0)\n",
    "cv2.destroyAllWindows()"
   ]
  },
  {
   "cell_type": "code",
   "execution_count": 18,
   "id": "2fa943df",
   "metadata": {},
   "outputs": [
    {
     "data": {
      "text/plain": [
       "True"
      ]
     },
     "execution_count": 18,
     "metadata": {},
     "output_type": "execute_result"
    }
   ],
   "source": [
    "mask2 = np.ones((756, 308, 1)) * 255\n",
    "img_com_mascara = cv2.bitwise_and(mask2, mask2, mask = invertida)\n",
    "\n",
    "cv2.imshow('BG White',mask2)\n",
    "cv2.imshow('BG White Mask',img_com_mascara)\n",
    "cv2.waitKey(0)\n",
    "cv2.destroyAllWindows()\n",
    "\n",
    "cv2.imwrite(\"9_white_bg.jpg\", img_com_mascara)"
   ]
  },
  {
   "cell_type": "code",
   "execution_count": 19,
   "id": "579cd9c5",
   "metadata": {},
   "outputs": [
    {
     "data": {
      "text/plain": [
       "(756, 308, 1)"
      ]
     },
     "execution_count": 19,
     "metadata": {},
     "output_type": "execute_result"
    }
   ],
   "source": [
    "mask2.shape"
   ]
  },
  {
   "cell_type": "markdown",
   "id": "4a6f2b15",
   "metadata": {},
   "source": [
    "### Questão 8\n",
    "\n",
    "Por fim, use a máscara calculada previamente para adicionar a boia no background branco. Salve como 10_final.jpg. "
   ]
  },
  {
   "cell_type": "code",
   "execution_count": 20,
   "id": "ae413a2c",
   "metadata": {},
   "outputs": [],
   "source": [
    "mascara = cv2.imread(\"8_inv_mask.jpg\", 1)\n",
    "bg = cv2.imread(\"9_white_bg.jpg\", 1)\n",
    "img = cv2.imread(\"6_crop.jpg\", 1)\n",
    "\n",
    "cv2.imshow('Imagem',img)\n",
    "cv2.imshow('Mascara',mascara)\n",
    "cv2.imshow('BG ',bg)\n",
    "cv2.waitKey(0)\n",
    "cv2.destroyAllWindows()"
   ]
  },
  {
   "cell_type": "code",
   "execution_count": 21,
   "id": "b69af80e",
   "metadata": {},
   "outputs": [],
   "source": [
    "img_final = cv2.bitwise_or(img, bg)"
   ]
  },
  {
   "cell_type": "code",
   "execution_count": 22,
   "id": "8f5466dd",
   "metadata": {},
   "outputs": [
    {
     "data": {
      "text/plain": [
       "True"
      ]
     },
     "execution_count": 22,
     "metadata": {},
     "output_type": "execute_result"
    }
   ],
   "source": [
    "cv2.imshow('Imagem Final', img_final)\n",
    "cv2.waitKey(0)\n",
    "cv2.destroyAllWindows()\n",
    "cv2.imwrite(\"10_final.jpg\", img_final)"
   ]
  },
  {
   "cell_type": "markdown",
   "id": "380a0dfc",
   "metadata": {},
   "source": [
    "### Questão 9 \n",
    "Calcule os momentos da imagem final. Lembrando que a imagem deve ter apenas 1 canal. O resultado deve ser semelhante ao  informado abaixo:"
   ]
  },
  {
   "cell_type": "code",
   "execution_count": 23,
   "id": "11738076",
   "metadata": {},
   "outputs": [
    {
     "data": {
      "text/plain": [
       "(756, 308, 3)"
      ]
     },
     "execution_count": 23,
     "metadata": {},
     "output_type": "execute_result"
    }
   ],
   "source": [
    "img_final.shape"
   ]
  },
  {
   "cell_type": "code",
   "execution_count": 24,
   "id": "baf0dc4c",
   "metadata": {},
   "outputs": [],
   "source": [
    "img_r = img_final.reshape(756, 308*3)"
   ]
  },
  {
   "cell_type": "code",
   "execution_count": 25,
   "id": "55062210",
   "metadata": {},
   "outputs": [],
   "source": [
    "moment = cv2.moments(img_r)"
   ]
  },
  {
   "cell_type": "code",
   "execution_count": 26,
   "id": "710a3060",
   "metadata": {},
   "outputs": [
    {
     "name": "stdout",
     "output_type": "stream",
     "text": [
      "{'m00': 144811568.0, 'm10': 65916242197.0, 'm01': 52016048670.0, 'm20': 41607022907767.0, 'm11': 23761409098224.0, 'm02': 25906253333006.0, 'm30': 2.9684843773774416e+16, 'm21': 1.5098766959846468e+16, 'm12': 1.1876395893467184e+16, 'm03': 1.4719334709296754e+16, 'mu20': 11602852347487.15, 'mu11': 84416233519.57408, 'mu02': 7222184397022.869, 'mu30': 182977941408847.7, 'mu21': 76750691282324.69, 'mu12': 23579915824800.16, 'mu03': 225465514913731.06, 'nu20': 0.0005532969211397481, 'nu11': 4.025496550484831e-06, 'nu02': 0.0003443991417887607, 'nu30': 7.25087798667198e-07, 'nu21': 3.041404300409053e-07, 'nu12': 9.34402755136442e-08, 'nu03': 8.934535639947829e-07}\n"
     ]
    }
   ],
   "source": [
    "print(moment)"
   ]
  }
 ],
 "metadata": {
  "kernelspec": {
   "display_name": "Python 3 (ipykernel)",
   "language": "python",
   "name": "python3"
  },
  "language_info": {
   "codemirror_mode": {
    "name": "ipython",
    "version": 3
   },
   "file_extension": ".py",
   "mimetype": "text/x-python",
   "name": "python",
   "nbconvert_exporter": "python",
   "pygments_lexer": "ipython3",
   "version": "3.9.7"
  }
 },
 "nbformat": 4,
 "nbformat_minor": 5
}
