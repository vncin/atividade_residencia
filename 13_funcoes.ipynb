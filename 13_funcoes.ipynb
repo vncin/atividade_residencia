{
 "cells": [
  {
   "cell_type": "markdown",
   "metadata": {},
   "source": [
    "# Curso de Python Básico\n",
    "\n",
    "Este é um curso básico de python que tem o objetivo de apresentar a linguagem python de uma **maneira rápida e objetiva**. Vamos direto ao ponto nos conceitos básicos da programação e python com muita mão na massa! \n",
    "\n",
    "Neste curso, vamos trabalhar no **modo iterativo** do python. Porém, entenda que você pode trabalhar no modo script com várias linhas de código usando um arquivo no formato .py.\n",
    "\n",
    "Ao final desse Curso, espero que você se aprenda python e se motive cada vez mais em utilizar a linguagem para diversas tarefas e problemas do mundo real.\n",
    "\n",
    "Este notebook vai apenas passar pelos tópicos básicos em ordem:\n",
    "\n",
    "* 7. funções\n",
    "    * 7.1 Funções SEM retorno\n",
    "    * 7.2 Funções COM retorno\n",
    "    * 7.3 Funções anônimas (lambda)\n",
    "    * 7.4 map e filter\n",
    "  "
   ]
  },
  {
   "cell_type": "markdown",
   "metadata": {},
   "source": [
    "## 7. Funções\n",
    "##### 7.1 Funções SEM retorno"
   ]
  },
  {
   "cell_type": "code",
   "execution_count": null,
   "metadata": {
    "ExecuteTime": {
     "end_time": "2021-08-27T14:51:51.146269Z",
     "start_time": "2021-08-27T14:51:51.131270Z"
    }
   },
   "outputs": [],
   "source": [
    "def nome_da_funcao():\n",
    "    print('primeira funcao')"
   ]
  },
  {
   "cell_type": "code",
   "execution_count": null,
   "metadata": {
    "ExecuteTime": {
     "end_time": "2021-08-27T14:51:52.655160Z",
     "start_time": "2021-08-27T14:51:52.644163Z"
    }
   },
   "outputs": [],
   "source": [
    "nome_da_funcao()"
   ]
  },
  {
   "cell_type": "code",
   "execution_count": null,
   "metadata": {
    "ExecuteTime": {
     "end_time": "2021-08-27T14:55:13.139128Z",
     "start_time": "2021-08-27T14:55:13.026132Z"
    }
   },
   "outputs": [],
   "source": [
    "imprimir('novo parametro')"
   ]
  },
  {
   "cell_type": "code",
   "execution_count": null,
   "metadata": {
    "ExecuteTime": {
     "end_time": "2021-08-27T14:55:13.307456Z",
     "start_time": "2021-08-27T14:55:13.289454Z"
    }
   },
   "outputs": [],
   "source": [
    "imprimir(param1='novo parametro')"
   ]
  },
  {
   "cell_type": "markdown",
   "metadata": {
    "ExecuteTime": {
     "end_time": "2021-08-27T14:56:09.337667Z",
     "start_time": "2021-08-27T14:56:09.322667Z"
    }
   },
   "source": [
    "##### 7.2 Funções COM retorno"
   ]
  },
  {
   "cell_type": "code",
   "execution_count": null,
   "metadata": {
    "ExecuteTime": {
     "end_time": "2021-08-27T14:55:22.885139Z",
     "start_time": "2021-08-27T14:55:22.876139Z"
    }
   },
   "outputs": [],
   "source": [
    "def soma(a, b):\n",
    "    return a+b"
   ]
  },
  {
   "cell_type": "code",
   "execution_count": null,
   "metadata": {
    "ExecuteTime": {
     "end_time": "2021-08-27T14:55:28.880117Z",
     "start_time": "2021-08-27T14:55:28.874118Z"
    }
   },
   "outputs": [],
   "source": [
    "valor = soma(10, 5)"
   ]
  },
  {
   "cell_type": "code",
   "execution_count": null,
   "metadata": {
    "ExecuteTime": {
     "end_time": "2021-08-27T14:55:34.357051Z",
     "start_time": "2021-08-27T14:55:34.347050Z"
    }
   },
   "outputs": [],
   "source": [
    "def square(x):\n",
    "    return x**0.5"
   ]
  },
  {
   "cell_type": "code",
   "execution_count": null,
   "metadata": {
    "ExecuteTime": {
     "end_time": "2021-08-27T14:55:39.562599Z",
     "start_time": "2021-08-27T14:55:39.546610Z"
    }
   },
   "outputs": [],
   "source": [
    "out = square(25)"
   ]
  },
  {
   "cell_type": "markdown",
   "metadata": {},
   "source": [
    "##### 7.3 Funções anônimas (lambda)"
   ]
  },
  {
   "cell_type": "code",
   "execution_count": 1,
   "metadata": {
    "ExecuteTime": {
     "end_time": "2021-08-27T14:56:56.017670Z",
     "start_time": "2021-08-27T14:56:56.001671Z"
    }
   },
   "outputs": [],
   "source": [
    "def multiplique_por_dois(numero):\n",
    "    return numero*2"
   ]
  },
  {
   "cell_type": "code",
   "execution_count": 2,
   "metadata": {
    "ExecuteTime": {
     "end_time": "2021-08-27T14:57:05.685637Z",
     "start_time": "2021-08-27T14:57:05.666640Z"
    }
   },
   "outputs": [
    {
     "data": {
      "text/plain": [
       "20"
      ]
     },
     "execution_count": 2,
     "metadata": {},
     "output_type": "execute_result"
    }
   ],
   "source": [
    "multiplique_por_dois(10)"
   ]
  },
  {
   "cell_type": "code",
   "execution_count": 3,
   "metadata": {
    "ExecuteTime": {
     "end_time": "2021-08-27T16:53:50.260971Z",
     "start_time": "2021-08-27T16:53:50.256974Z"
    }
   },
   "outputs": [],
   "source": [
    "multiplique_dois = lambda x: x * 2"
   ]
  },
  {
   "cell_type": "code",
   "execution_count": 4,
   "metadata": {
    "ExecuteTime": {
     "end_time": "2021-08-27T16:53:54.606455Z",
     "start_time": "2021-08-27T16:53:54.582456Z"
    }
   },
   "outputs": [
    {
     "data": {
      "text/plain": [
       "10"
      ]
     },
     "execution_count": 4,
     "metadata": {},
     "output_type": "execute_result"
    }
   ],
   "source": [
    "multiplique_dois(5)"
   ]
  },
  {
   "cell_type": "code",
   "execution_count": 5,
   "metadata": {
    "ExecuteTime": {
     "end_time": "2021-08-27T16:54:14.989408Z",
     "start_time": "2021-08-27T16:54:14.982412Z"
    }
   },
   "outputs": [],
   "source": [
    "calcule_potencia = lambda potencia: potencia ** 2"
   ]
  },
  {
   "cell_type": "code",
   "execution_count": 6,
   "metadata": {
    "ExecuteTime": {
     "end_time": "2021-08-27T16:54:20.055806Z",
     "start_time": "2021-08-27T16:54:20.046806Z"
    }
   },
   "outputs": [
    {
     "data": {
      "text/plain": [
       "9"
      ]
     },
     "execution_count": 6,
     "metadata": {},
     "output_type": "execute_result"
    }
   ],
   "source": [
    "calcule_potencia(3)"
   ]
  },
  {
   "cell_type": "code",
   "execution_count": 7,
   "metadata": {
    "ExecuteTime": {
     "end_time": "2021-08-27T16:54:48.391827Z",
     "start_time": "2021-08-27T16:54:48.381827Z"
    }
   },
   "outputs": [],
   "source": [
    "soma = lambda a, b, c : a + b + c"
   ]
  },
  {
   "cell_type": "code",
   "execution_count": 8,
   "metadata": {
    "ExecuteTime": {
     "end_time": "2021-08-27T16:54:55.306060Z",
     "start_time": "2021-08-27T16:54:55.294062Z"
    }
   },
   "outputs": [
    {
     "data": {
      "text/plain": [
       "6"
      ]
     },
     "execution_count": 8,
     "metadata": {},
     "output_type": "execute_result"
    }
   ],
   "source": [
    "soma(1,2,3)"
   ]
  },
  {
   "cell_type": "markdown",
   "metadata": {},
   "source": [
    "#### 7.4 Variáveis Globais"
   ]
  },
  {
   "cell_type": "code",
   "execution_count": 10,
   "metadata": {},
   "outputs": [
    {
     "name": "stdout",
     "output_type": "stream",
     "text": [
      "Danny\n",
      "30\n"
     ]
    }
   ],
   "source": [
    "def profile():\n",
    "    global name\n",
    "    global age\n",
    "    name = \"Danny\"\n",
    "    age = 30\n",
    "\n",
    "profile()\n",
    "print(name)\n",
    "# Output: Danny\n",
    "\n",
    "print(age)\n",
    "# Output: 30"
   ]
  },
  {
   "cell_type": "code",
   "execution_count": null,
   "metadata": {},
   "outputs": [],
   "source": []
  },
  {
   "cell_type": "markdown",
   "metadata": {},
   "source": [
    "## Agora é sua vez"
   ]
  },
  {
   "cell_type": "markdown",
   "metadata": {
    "ExecuteTime": {
     "end_time": "2021-09-27T19:12:27.152396Z",
     "start_time": "2021-09-27T19:12:27.132411Z"
    }
   },
   "source": [
    "**1) Crie uma função que irá receber 3 notas e fornecerá como saída o resultado da média dessas notas**"
   ]
  },
  {
   "cell_type": "code",
   "execution_count": 11,
   "metadata": {},
   "outputs": [
    {
     "data": {
      "text/plain": [
       "2.0"
      ]
     },
     "execution_count": 11,
     "metadata": {},
     "output_type": "execute_result"
    }
   ],
   "source": [
    "def media(n1, n2, n3):\n",
    "    return (n1+n2+n3)/3\n",
    "media(1, 2, 3)"
   ]
  },
  {
   "cell_type": "markdown",
   "metadata": {
    "ExecuteTime": {
     "end_time": "2021-09-27T19:12:46.277155Z",
     "start_time": "2021-09-27T19:12:46.267155Z"
    }
   },
   "source": [
    "**2) Crie uma função que irá receber um número e a saída é a sequência de fibonnaci  notas e fornecerá como saída o resultado da média dessas notas**"
   ]
  },
  {
   "cell_type": "code",
   "execution_count": 12,
   "metadata": {},
   "outputs": [
    {
     "name": "stdout",
     "output_type": "stream",
     "text": [
      "5º de Fibonacci é [1, 1, 2, 3, 5]\n",
      "A media dessa sequencia é:  2.4\n"
     ]
    }
   ],
   "source": [
    "def fibo(n):\n",
    "    fibo = []\n",
    "    fibo = [1, 1]\n",
    "    for i in range(2, n):\n",
    "        fibo.insert(i, fibo[i-1]+fibo[i-2])\n",
    "    print(\"{}º de Fibonacci é {}\".format(n, fibo))\n",
    "    print(\"A media dessa sequencia é: \", sum(fibo)/len(fibo))\n",
    "\n",
    "fibo(5)"
   ]
  },
  {
   "cell_type": "code",
   "execution_count": null,
   "metadata": {},
   "outputs": [],
   "source": []
  }
 ],
 "metadata": {
  "kernelspec": {
   "display_name": "Python 3 (ipykernel)",
   "language": "python",
   "name": "python3"
  },
  "language_info": {
   "codemirror_mode": {
    "name": "ipython",
    "version": 3
   },
   "file_extension": ".py",
   "mimetype": "text/x-python",
   "name": "python",
   "nbconvert_exporter": "python",
   "pygments_lexer": "ipython3",
   "version": "3.8.11"
  }
 },
 "nbformat": 4,
 "nbformat_minor": 1
}
